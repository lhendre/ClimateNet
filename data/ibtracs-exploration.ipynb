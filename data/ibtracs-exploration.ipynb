{
 "cells": [
  {
   "cell_type": "markdown",
   "id": "31942252-1e02-4c8a-88cd-6a15f34311cb",
   "metadata": {},
   "source": [
    "# ibtracs data exploration"
   ]
  },
  {
   "cell_type": "code",
   "execution_count": 2,
   "id": "a53dd9de-7e83-4ae5-adac-b58ba2669fd5",
   "metadata": {
    "tags": []
   },
   "outputs": [
    {
     "name": "stdout",
     "output_type": "stream",
     "text": [
      "Requirement already satisfied: netCDF4 in /opt/conda/lib/python3.7/site-packages (1.6.3)\n",
      "Requirement already satisfied: cftime in /opt/conda/lib/python3.7/site-packages (from netCDF4) (1.6.2)\n",
      "Requirement already satisfied: numpy in /opt/conda/lib/python3.7/site-packages (from netCDF4) (1.21.6)\n",
      "\u001b[33mWARNING: Running pip as the 'root' user can result in broken permissions and conflicting behaviour with the system package manager. It is recommended to use a virtual environment instead: https://pip.pypa.io/warnings/venv\u001b[0m\u001b[33m\n",
      "\u001b[0m\n",
      "\u001b[1m[\u001b[0m\u001b[34;49mnotice\u001b[0m\u001b[1;39;49m]\u001b[0m\u001b[39;49m A new release of pip is available: \u001b[0m\u001b[31;49m23.0.1\u001b[0m\u001b[39;49m -> \u001b[0m\u001b[32;49m23.1.2\u001b[0m\n",
      "\u001b[1m[\u001b[0m\u001b[34;49mnotice\u001b[0m\u001b[1;39;49m]\u001b[0m\u001b[39;49m To update, run: \u001b[0m\u001b[32;49mpip install --upgrade pip\u001b[0m\n",
      "sagemaker-us-west-2-014690315417\n"
     ]
    }
   ],
   "source": [
    "import boto3\n",
    "!pip install netCDF4\n",
    "import netCDF4\n",
    "import os\n",
    "import boto3\n",
    "import sagemaker\n",
    "sess = sagemaker.Session()\n",
    "bucket = sess.default_bucket()                    # Set a default S3 bucket\n",
    "print(bucket)"
   ]
  },
  {
   "cell_type": "code",
   "execution_count": 3,
   "id": "7690baad-13fc-4838-8969-221fcd4d4d86",
   "metadata": {
    "tags": []
   },
   "outputs": [],
   "source": [
    "# Create a Boto3 S3 client\n",
    "#IBTrACS.since1980.v04r00.nc\n",
    "# s3key = \"data/ibtracs/IBTrACS.ALL.v04r00.nc\"\n",
    "s3key = \"data/ibtracs/IBTrACS.since1980.v04r00.nc\"\n",
    "# dest = \"/data_downloads/ibtracs/IBTrACS.ALL.v04r00.nc\"\n",
    "dest = \"/data_downloads/ibtracs/IBTrACS.since1980.v04r00.nc\"\n",
    "s3 = boto3.client('s3')\n",
    "s3.download_file(bucket, s3key, dest)\n",
    "# s3.download_file(bucket, s3key, dest)\n",
    "# Open the downloaded NetCDF file\n"
   ]
  },
  {
   "cell_type": "code",
   "execution_count": 7,
   "id": "bbd01ff0-e19c-4fdd-b6d8-08e9f6003764",
   "metadata": {
    "tags": []
   },
   "outputs": [],
   "source": [
    "dataset = netCDF4.Dataset(dest)\n"
   ]
  },
  {
   "cell_type": "code",
   "execution_count": 11,
   "id": "ae5a17cb-b51d-46a4-bdff-67106c6eec82",
   "metadata": {
    "tags": []
   },
   "outputs": [
    {
     "name": "stdout",
     "output_type": "stream",
     "text": [
      "Variable: usa_sshs, dim: ('storm', 'date_time')\n",
      "[[-1 -1 -1 ... -- -- --]\n",
      " [-5 -5 -5 ... -- -- --]\n",
      " [-5 -5 -1 ... -- -- --]\n",
      " ...\n",
      " [0 0 0 ... -- -- --]\n",
      " [0 0 0 ... -- -- --]\n",
      " [-1 -1 -1 ... -- -- --]]\n",
      "Variable: usa_roci, dim: ('storm', 'date_time')\n",
      "[[-- -- -- ... -- -- --]\n",
      " [-- -- -- ... -- -- --]\n",
      " [-- -- -- ... -- -- --]\n",
      " ...\n",
      " [235 247 260 ... -- -- --]\n",
      " [150 150 150 ... -- -- --]\n",
      " [240 240 240 ... -- -- --]]\n",
      "Variable: bom_roci, dim: ('storm', 'date_time')\n",
      "[[-- -- -- ... -- -- --]\n",
      " [-- -- -- ... -- -- --]\n",
      " [-- -- -- ... -- -- --]\n",
      " ...\n",
      " [-- -- -- ... -- -- --]\n",
      " [-- -- -- ... -- -- --]\n",
      " [-- -- -- ... -- -- --]]\n",
      "Variable: td9635_roci, dim: ('storm', 'date_time')\n",
      "[[-- -- -- ... -- -- --]\n",
      " [-- -- -- ... -- -- --]\n",
      " [-- -- -- ... -- -- --]\n",
      " ...\n",
      " [-- -- -- ... -- -- --]\n",
      " [-- -- -- ... -- -- --]\n",
      " [-- -- -- ... -- -- --]]\n"
     ]
    }
   ],
   "source": [
    "variable_names = dataset.variables.keys()\n",
    "for var_name in variable_names:\n",
    "    variable = dataset.variables[var_name]\n",
    "    if \"roci\" in var_name or \"sshs\" in var_name:\n",
    "        print(f\"Variable: {var_name}, dim: {variable.dimensions}\")\n",
    "        print(variable[:])  # Access the values as a numpy array\n",
    "    # if \"usa\" in var_name or \"stage\" in var_name:\n",
    "    #     print(f\"Variable: {var_name}\")\n",
    "    #     print(variable[:])  # Access the values as a numpy array\n",
    "    # print()"
   ]
  },
  {
   "cell_type": "code",
   "execution_count": 12,
   "id": "d6544784-1b1c-466f-8edb-1802c5db9945",
   "metadata": {
    "tags": []
   },
   "outputs": [
    {
     "name": "stdout",
     "output_type": "stream",
     "text": [
      "<class 'netCDF4._netCDF4.Dataset'>\n",
      "root group (NETCDF4 data model, file format HDF5):\n",
      "    title: IBTrACS - International Best Track Archive for Climate Stewardship - version v04r00, Position, intensity and other information for known tropical cyclones\n",
      "    summary: The intent of the IBTrACS project is to overcome best track data availability issues that arise from multiple agencies producing data for different storms in different formats. This was achieved by working directly with all the Regional Specialized Meteorological Centers and other international centers and individuals to create a global best track dataset, merging storm information from multiple agencies into one product and archiving the data for public use.\n",
      "    source: The original data are tropical cyclone position, intensity and otherinformation provided by various agencies and people. This is a collection of all data on each tropical cyclone recorded.\n",
      "    Conventions: ACDD-1.3\n",
      "    Conventions_note: Data are nearly CF-1.7 compliant. The sole issue is the storage of missing data in the latitude/longitude/time variables. Otherwise, data are CF compliant.\n",
      "    product_version: v04r00\n",
      "    project: International Best Track Archive for Climate Stewardship (IBTrACS)\n",
      "    processing_level: NOAA Processing Level 2, Data products are derived geophysical variables at the same resolution and locations as the level 1 source data\n",
      "    acknowledgement: IBTrACS was produced by a team of scientists from NOAA in collaboration with scientists worldwide.\n",
      "    references: https://www.ncdc.noaa.gov/ibtracs/, doi:10.1175/2009BAMS2755.1\n",
      "    institution: National Centers for Environmental Information, NESDIS, NOAA, U.S. Department of Commerce\n",
      "    publisher_type: institution\n",
      "    publisher_name: National Centers for Environmental Information, NESDIS, NOAA, U.S. Department of Commerce\n",
      "    publisher_email: ncei.sat.info@noaa.gov\n",
      "    publisher_institution: National Centers for Environmental Information, NESDIS, NOAA, U.S. Department of Commerce\n",
      "    publisher_url: https://ncei.noaa.gov/\n",
      "    creator_type: group\n",
      "    creator_name: IBTrACS Science Team (Ken Knapp, Howard Diamond, Jim Kossin, Mike Kruk, Carl Schreck)\n",
      "    creator_institution: National Centers for Environmental Information, NESDIS, NOAA, U.S. Department of Commerce\n",
      "    creator_email: ibtracs.team@noaa.gov, ken.knapp@noaa.gov\n",
      "    creator_url: https://www.ncdc.noaa.gov/ibtracs/\n",
      "    contributor_name: \"National Hurricane Center, National Weather Service, NOAA, U.S. Department of Commerce\",\"Central Pacific Hurricane Center, National Weather Service, NOAA, U.S. Department of Commerce\",\"Japan Meteorological Agency, RSMC Tokyo, Japan\",\"India Meteorological Department, RSMC New Delhi, India\",\"Bureau of Meteorology, Australia\",\"MetService, TCWC Wellington, New Zealand\",\"Fiji Meteorological Service, RSMC Fiji, Fiji\",\"MeteoFrance, La Reunion, RSMC La Reunion\",\"Shanghai Typhoon Institute, Chinese Meteorological Administration, China\",\"Hong Kong Observatory, Hong Kong\"\"Joint Typhoon Warning Center, U.S. Department of Defense\",\"National Center for Atmospheric Research, University Corporation for Atmospheric Research\",\"Charlie Neumann Southern Hemisphere Dataset\",\"Mike Chenoweth North Atlantic Dataset\"\n",
      "    contributor_role: These agencies and people provide track data and best track data used to produce IBTrACS.\n",
      "    date_created: 2023-05-12 20:53:15\n",
      "    date_issued: 2023-05-12 20:53:15\n",
      "    time_coverage_start: 1842-10-25T03:00:00\n",
      "    time_coverage_end: 2023-05-12 20:53:15\n",
      "    geospatial_lat_min: 80.0\n",
      "    geospatial_lat_max: -80.0\n",
      "    geospatial_lat_units: degrees_north\n",
      "    geospatial_lat_resolution: 0.10\n",
      "    geospatial_lon_min: -180.0\n",
      "    geospatial_lon_max:  180.0\n",
      "    geospatial_lon_units: degrees_east\n",
      "    geospatial_lon_resolution: 0.10\n",
      "    geospatial_vertical_min: not applicable\n",
      "    geospatial_vertical_max: not applicable \n",
      "    naming_authority: gov.noaa.ncei\n",
      "    id: 1980001S13173.ibtracs_int.v04r00.nc\n",
      "    metadata_link: doi:10.25921/82ty-9e16\n",
      "    keywords: EARTH SCIENCE> ATMOSPHERE> WEATHER EVENTS> TROPICAL CYCLONES> MAXIMUM SURFACE WIND, EARTH SCIENCE> ATMOSPHERE> WEATHER EVENTS> TROPICAL CYCLONES> MINIMUM CENTRAL PRESSURE, EARTH SCIENCE> ATMOSPHERE> WEATHER EVENTS> TROPICAL CYCLONES> TROPICAL CYCLONE TRACK, EARTH SCIENCE> ATMOSPHERE> WEATHER EVENTS> TROPICAL CYCLONES> TROPICAL CYCLONE FORCE WIND EXTENT, EARTH SCIENCE> ATMOSPHERE> WEATHER EVENTS> TROPICAL CYCLONES> TROPICAL CYCLONE RADIUS, EARTH SCIENCE> ATMOSPHERE> WEATHER EVENTS> TROPICAL CYCLONES> MAXIMUM 1-MINUTE SUSTAINED WIND, EARTH SCIENCE> ATMOSPHERE> WEATHER EVENTS> SUBTROPICAL CYCLONES > SUBTROPICAL STORM\n",
      "    keywords_vocabulary: GCMD Science Keywords Version 8.6\n",
      "    standard_name_vocabulary: CF Standard Name Table v52\n",
      "    history: Thu Jun  1 03:39:07 2023: ncks -a -4 -L 5 temp.nc -O netcdf/IBTrACS.since1980.v04r00.nc\n",
      "Thu Jun  1 03:36:25 2023: ncrcat -6 -H -O netcdf/ibtracs.since1980.v04r00.nc\n",
      "Produced by IBTrACS for individual tracks and merged into basin and temporal collections using netCDF operators (ncrcat)\n",
      "    license: These data may be redistributed and used without restriction.\n",
      "    featureType: trajectory\n",
      "    cdm_data_type: Trajectory\n",
      "    comment: The tracks of TCs generally look like a trajectory except that it wasn't expedient to use the CF trajectory type. The team stored data in a way that approximates the trajectory profile, where each new track (each new storm) is a new trajectory.\n",
      "    nco_openmp_thread_number: 1\n",
      "    NCO: 4.4.3\n",
      "    dimensions(sizes): storm(4687), charsn(13), date_time(360), char2(2), char128(128), niso(19), char14(14), char32(32), char1(1), quadrant(4), char6(6), char10(10)\n",
      "    variables(dimensions): int16 numobs(storm), |S1 sid(storm, charsn), int16 season(storm), int16 number(storm), |S1 basin(storm, date_time, char2), |S1 subbasin(storm, date_time, char2), |S1 name(storm, char128), |S1 source_usa(storm, char128), |S1 source_jma(storm, char128), |S1 source_cma(storm, char128), |S1 source_hko(storm, char128), |S1 source_new(storm, char128), |S1 source_reu(storm, char128), |S1 source_bom(storm, char128), |S1 source_nad(storm, char128), |S1 source_wel(storm, char128), |S1 source_td5(storm, char128), |S1 source_td6(storm, char128), |S1 source_ds8(storm, char128), |S1 source_neu(storm, char128), |S1 source_mlc(storm, char128), float64 time(storm, date_time), |S1 iso_time(storm, date_time, niso), |S1 nature(storm, date_time, char2), float32 lat(storm, date_time), float32 lon(storm, date_time), int16 wmo_wind(storm, date_time), int16 wmo_pres(storm, date_time), |S1 wmo_agency(storm, date_time, niso), |S1 track_type(storm, niso), |S1 main_track_sid(storm, charsn), int16 dist2land(storm, date_time), int16 landfall(storm, date_time), |S1 iflag(storm, date_time, char14), |S1 usa_agency(storm, date_time, char32), |S1 usa_atcf_id(storm, date_time, char32), float32 usa_lat(storm, date_time), float32 usa_lon(storm, date_time), |S1 usa_record(storm, date_time, char1), |S1 usa_status(storm, date_time, char2), int16 usa_wind(storm, date_time), int16 usa_pres(storm, date_time), int8 usa_sshs(storm, date_time), int16 usa_r34(storm, date_time, quadrant), int16 usa_r50(storm, date_time, quadrant), int16 usa_r64(storm, date_time, quadrant), int16 usa_poci(storm, date_time), int16 usa_roci(storm, date_time), int16 usa_rmw(storm, date_time), int16 usa_eye(storm, date_time), float32 tokyo_lat(storm, date_time), float32 tokyo_lon(storm, date_time), int8 tokyo_grade(storm, date_time), int16 tokyo_wind(storm, date_time), int16 tokyo_pres(storm, date_time), int8 tokyo_r50_dir(storm, date_time), int16 tokyo_r50_long(storm, date_time), int16 tokyo_r50_short(storm, date_time), int8 tokyo_r30_dir(storm, date_time), int16 tokyo_r30_long(storm, date_time), int16 tokyo_r30_short(storm, date_time), int8 tokyo_land(storm, date_time), float32 cma_lat(storm, date_time), float32 cma_lon(storm, date_time), int8 cma_cat(storm, date_time), int16 cma_wind(storm, date_time), int16 cma_pres(storm, date_time), float32 hko_lat(storm, date_time), float32 hko_lon(storm, date_time), |S1 hko_cat(storm, date_time, char6), int16 hko_wind(storm, date_time), int16 hko_pres(storm, date_time), float32 newdelhi_lat(storm, date_time), float32 newdelhi_lon(storm, date_time), |S1 newdelhi_grade(storm, date_time, char10), int16 newdelhi_wind(storm, date_time), int16 newdelhi_pres(storm, date_time), int16 newdelhi_ci(storm, date_time), int16 newdelhi_dp(storm, date_time), int16 newdelhi_poci(storm, date_time), float32 reunion_lat(storm, date_time), float32 reunion_lon(storm, date_time), int8 reunion_type(storm, date_time), int16 reunion_wind(storm, date_time), int16 reunion_pres(storm, date_time), int16 reunion_tnum(storm, date_time), int16 reunion_ci(storm, date_time), int16 reunion_rmw(storm, date_time), int16 reunion_r34(storm, date_time, quadrant), int16 reunion_r50(storm, date_time, quadrant), int16 reunion_r64(storm, date_time, quadrant), float32 bom_lat(storm, date_time), float32 bom_lon(storm, date_time), int8 bom_type(storm, date_time), int16 bom_wind(storm, date_time), int16 bom_pres(storm, date_time), int16 bom_tnum(storm, date_time), int16 bom_ci(storm, date_time), int16 bom_rmw(storm, date_time), int16 bom_r34(storm, date_time, quadrant), int16 bom_r50(storm, date_time, quadrant), int16 bom_r64(storm, date_time, quadrant), int16 bom_roci(storm, date_time), int16 bom_poci(storm, date_time), int16 bom_eye(storm, date_time), int8 bom_pos_method(storm, date_time), int8 bom_pres_method(storm, date_time), float32 nadi_lat(storm, date_time), float32 nadi_lon(storm, date_time), int8 nadi_cat(storm, date_time), int16 nadi_wind(storm, date_time), int16 nadi_pres(storm, date_time), float32 wellington_lat(storm, date_time), float32 wellington_lon(storm, date_time), int16 wellington_wind(storm, date_time), int16 wellington_pres(storm, date_time), float32 ds824_lat(storm, date_time), float32 ds824_lon(storm, date_time), |S1 ds824_stage(storm, date_time, char2), int16 ds824_wind(storm, date_time), int16 ds824_pres(storm, date_time), float32 td9636_lat(storm, date_time), float32 td9636_lon(storm, date_time), int8 td9636_stage(storm, date_time), int16 td9636_wind(storm, date_time), int16 td9636_pres(storm, date_time), float32 td9635_lat(storm, date_time), float32 td9635_lon(storm, date_time), int16 td9635_wind(storm, date_time), int16 td9635_pres(storm, date_time), int16 td9635_roci(storm, date_time), float32 neumann_lat(storm, date_time), float32 neumann_lon(storm, date_time), |S1 neumann_class(storm, date_time, char2), int16 neumann_wind(storm, date_time), int16 neumann_pres(storm, date_time), float32 mlc_lat(storm, date_time), float32 mlc_lon(storm, date_time), |S1 mlc_class(storm, date_time, char2), int16 mlc_wind(storm, date_time), int16 mlc_pres(storm, date_time), int16 usa_gust(storm, date_time), int16 bom_gust(storm, date_time), int16 bom_gust_per(storm, date_time), int16 reunion_gust(storm, date_time), int16 reunion_gust_per(storm, date_time), int16 usa_seahgt(storm, date_time), int16 usa_searad(storm, date_time, quadrant), int16 storm_speed(storm, date_time), int16 storm_dir(storm, date_time)\n",
      "    groups: \n"
     ]
    }
   ],
   "source": [
    "print(dataset)\n",
    "# # Get the dimension names and sizes\n",
    "# dimension_names = dataset.dimensions.keys()\n",
    "\n",
    "# # Print dimension names and sizes\n",
    "# for dim_name in dimension_names:\n",
    "#     dimension = dataset.dimensions[dim_name]\n",
    "#     print(f\"Dimension: {dim_name}\")\n",
    "#     print(f\"Size: {dimension.size}\")\n",
    "#     print()\n"
   ]
  },
  {
   "cell_type": "code",
   "execution_count": 24,
   "id": "df709834-b889-4de9-87fa-0b1cb65cbf29",
   "metadata": {
    "tags": []
   },
   "outputs": [
    {
     "name": "stdout",
     "output_type": "stream",
     "text": [
      "Hit:1 http://deb.debian.org/debian buster InRelease\n",
      "Hit:2 http://deb.debian.org/debian buster-updates InRelease\n",
      "Hit:3 http://security.debian.org/debian-security buster/updates InRelease\n",
      "Reading package lists... Done\n",
      "Reading package lists... Done\n",
      "Building dependency tree       \n",
      "Reading state information... Done\n",
      "E: Unable to locate package libgeos\n"
     ]
    }
   ],
   "source": [
    "#\n",
    "!apt-get update\n",
    "!apt install libgeos\n",
    "\n",
    "# !pip install cartopy"
   ]
  },
  {
   "cell_type": "code",
   "execution_count": 22,
   "id": "383f0106-57af-42f6-84f6-34f7550504a0",
   "metadata": {
    "tags": []
   },
   "outputs": [
    {
     "ename": "ModuleNotFoundError",
     "evalue": "No module named 'cartopy'",
     "output_type": "error",
     "traceback": [
      "\u001b[0;31m---------------------------------------------------------------------------\u001b[0m",
      "\u001b[0;31mModuleNotFoundError\u001b[0m                       Traceback (most recent call last)",
      "\u001b[0;32m<ipython-input-22-2c2008cd1d23>\u001b[0m in \u001b[0;36m<module>\u001b[0;34m\u001b[0m\n\u001b[1;32m      1\u001b[0m \u001b[0;31m# !pip3 install https://github.com/matplotlib/basemap/archive/master.zip\u001b[0m\u001b[0;34m\u001b[0m\u001b[0;34m\u001b[0m\u001b[0;34m\u001b[0m\u001b[0m\n\u001b[0;32m----> 2\u001b[0;31m \u001b[0;32mimport\u001b[0m \u001b[0mcartopy\u001b[0m\u001b[0;34m.\u001b[0m\u001b[0mcrs\u001b[0m \u001b[0;32mas\u001b[0m \u001b[0mccrs\u001b[0m\u001b[0;34m\u001b[0m\u001b[0;34m\u001b[0m\u001b[0m\n\u001b[0m\u001b[1;32m      3\u001b[0m \u001b[0;32mimport\u001b[0m \u001b[0mmpl_toolkits\u001b[0m\u001b[0;34m\u001b[0m\u001b[0;34m\u001b[0m\u001b[0m\n\u001b[1;32m      4\u001b[0m \u001b[0;32mimport\u001b[0m \u001b[0mmatplotlib\u001b[0m\u001b[0;34m.\u001b[0m\u001b[0mpyplot\u001b[0m \u001b[0;32mas\u001b[0m \u001b[0mplt\u001b[0m\u001b[0;34m\u001b[0m\u001b[0;34m\u001b[0m\u001b[0m\n\u001b[1;32m      5\u001b[0m \u001b[0;31m# from mpl_toolkits.basemap import Basemap\u001b[0m\u001b[0;34m\u001b[0m\u001b[0;34m\u001b[0m\u001b[0;34m\u001b[0m\u001b[0m\n",
      "\u001b[0;31mModuleNotFoundError\u001b[0m: No module named 'cartopy'"
     ]
    }
   ],
   "source": [
    "# !pip3 install https://github.com/matplotlib/basemap/archive/master.zip\n",
    "import cartopy.crs as ccrs\n",
    "import mpl_toolkits\n",
    "import matplotlib.pyplot as plt\n",
    "# from mpl_toolkits.basemap import Basemap\n",
    "# Extract the required variables\n",
    "lon = dataset.variables[\"lon\"][:]\n",
    "lat = dataset.variables[\"lat\"][:]\n",
    "intensity = dataset.variables[\"usa_sshs\"][:]\n",
    "\n",
    "\n",
    "projection = ccrs.PlateCarree()\n",
    "\n",
    "# Create a figure and axes with the desired projection\n",
    "fig, ax = plt.subplots(figsize=(10, 6), subplot_kw={\"projection\": projection})\n",
    "\n",
    "# Plot the data on the map\n",
    "ax.scatter(lon, lat, c=intensity, cmap=\"jet\", transform=projection)\n",
    "ax.coastlines()\n",
    "\n",
    "# Set the map extent to focus on the data\n",
    "ax.set_extent([lon.min(), lon.max(), lat.min(), lat.max()], crs=projection)\n",
    "\n",
    "# Add map features (optional)\n",
    "ax.add_feature(cartopy.feature.LAND, facecolor=\"lightgray\")\n",
    "ax.add_feature(cartopy.feature.OCEAN, facecolor=\"white\")\n",
    "ax.add_feature(cartopy.feature.BORDERS, linestyle=\":\", linewidth=0.5)\n",
    "\n",
    "# Add colorbar\n",
    "cbar = plt.colorbar(label=\"Intensity\")\n",
    "cbar.ax.tick_params(labelsize=8)\n",
    "\n",
    "# Set title and show the plot\n",
    "plt.title(\"IBTrACS Data\")\n",
    "plt.show()\n",
    "\n",
    "\n",
    "# # Plot the data\n",
    "# plt.figure(figsize=(10, 6))\n",
    "# plt.scatter(lon, lat, c=intensity, cmap=\"jet\")\n",
    "# plt.colorbar(label=\"Intensity\")\n",
    "# plt.title(\"IBTrACS Data\")\n",
    "# plt.xlabel(\"Longitude\")\n",
    "# plt.ylabel(\"Latitude\")\n",
    "# plt.grid(True)\n",
    "# plt.show()\n"
   ]
  },
  {
   "cell_type": "code",
   "execution_count": null,
   "id": "649f2b04-3670-43f7-ab79-0b174ec55ab9",
   "metadata": {},
   "outputs": [],
   "source": []
  }
 ],
 "metadata": {
  "availableInstances": [
   {
    "_defaultOrder": 0,
    "_isFastLaunch": true,
    "category": "General purpose",
    "gpuNum": 0,
    "hideHardwareSpecs": false,
    "memoryGiB": 4,
    "name": "ml.t3.medium",
    "vcpuNum": 2
   },
   {
    "_defaultOrder": 1,
    "_isFastLaunch": false,
    "category": "General purpose",
    "gpuNum": 0,
    "hideHardwareSpecs": false,
    "memoryGiB": 8,
    "name": "ml.t3.large",
    "vcpuNum": 2
   },
   {
    "_defaultOrder": 2,
    "_isFastLaunch": false,
    "category": "General purpose",
    "gpuNum": 0,
    "hideHardwareSpecs": false,
    "memoryGiB": 16,
    "name": "ml.t3.xlarge",
    "vcpuNum": 4
   },
   {
    "_defaultOrder": 3,
    "_isFastLaunch": false,
    "category": "General purpose",
    "gpuNum": 0,
    "hideHardwareSpecs": false,
    "memoryGiB": 32,
    "name": "ml.t3.2xlarge",
    "vcpuNum": 8
   },
   {
    "_defaultOrder": 4,
    "_isFastLaunch": true,
    "category": "General purpose",
    "gpuNum": 0,
    "hideHardwareSpecs": false,
    "memoryGiB": 8,
    "name": "ml.m5.large",
    "vcpuNum": 2
   },
   {
    "_defaultOrder": 5,
    "_isFastLaunch": false,
    "category": "General purpose",
    "gpuNum": 0,
    "hideHardwareSpecs": false,
    "memoryGiB": 16,
    "name": "ml.m5.xlarge",
    "vcpuNum": 4
   },
   {
    "_defaultOrder": 6,
    "_isFastLaunch": false,
    "category": "General purpose",
    "gpuNum": 0,
    "hideHardwareSpecs": false,
    "memoryGiB": 32,
    "name": "ml.m5.2xlarge",
    "vcpuNum": 8
   },
   {
    "_defaultOrder": 7,
    "_isFastLaunch": false,
    "category": "General purpose",
    "gpuNum": 0,
    "hideHardwareSpecs": false,
    "memoryGiB": 64,
    "name": "ml.m5.4xlarge",
    "vcpuNum": 16
   },
   {
    "_defaultOrder": 8,
    "_isFastLaunch": false,
    "category": "General purpose",
    "gpuNum": 0,
    "hideHardwareSpecs": false,
    "memoryGiB": 128,
    "name": "ml.m5.8xlarge",
    "vcpuNum": 32
   },
   {
    "_defaultOrder": 9,
    "_isFastLaunch": false,
    "category": "General purpose",
    "gpuNum": 0,
    "hideHardwareSpecs": false,
    "memoryGiB": 192,
    "name": "ml.m5.12xlarge",
    "vcpuNum": 48
   },
   {
    "_defaultOrder": 10,
    "_isFastLaunch": false,
    "category": "General purpose",
    "gpuNum": 0,
    "hideHardwareSpecs": false,
    "memoryGiB": 256,
    "name": "ml.m5.16xlarge",
    "vcpuNum": 64
   },
   {
    "_defaultOrder": 11,
    "_isFastLaunch": false,
    "category": "General purpose",
    "gpuNum": 0,
    "hideHardwareSpecs": false,
    "memoryGiB": 384,
    "name": "ml.m5.24xlarge",
    "vcpuNum": 96
   },
   {
    "_defaultOrder": 12,
    "_isFastLaunch": false,
    "category": "General purpose",
    "gpuNum": 0,
    "hideHardwareSpecs": false,
    "memoryGiB": 8,
    "name": "ml.m5d.large",
    "vcpuNum": 2
   },
   {
    "_defaultOrder": 13,
    "_isFastLaunch": false,
    "category": "General purpose",
    "gpuNum": 0,
    "hideHardwareSpecs": false,
    "memoryGiB": 16,
    "name": "ml.m5d.xlarge",
    "vcpuNum": 4
   },
   {
    "_defaultOrder": 14,
    "_isFastLaunch": false,
    "category": "General purpose",
    "gpuNum": 0,
    "hideHardwareSpecs": false,
    "memoryGiB": 32,
    "name": "ml.m5d.2xlarge",
    "vcpuNum": 8
   },
   {
    "_defaultOrder": 15,
    "_isFastLaunch": false,
    "category": "General purpose",
    "gpuNum": 0,
    "hideHardwareSpecs": false,
    "memoryGiB": 64,
    "name": "ml.m5d.4xlarge",
    "vcpuNum": 16
   },
   {
    "_defaultOrder": 16,
    "_isFastLaunch": false,
    "category": "General purpose",
    "gpuNum": 0,
    "hideHardwareSpecs": false,
    "memoryGiB": 128,
    "name": "ml.m5d.8xlarge",
    "vcpuNum": 32
   },
   {
    "_defaultOrder": 17,
    "_isFastLaunch": false,
    "category": "General purpose",
    "gpuNum": 0,
    "hideHardwareSpecs": false,
    "memoryGiB": 192,
    "name": "ml.m5d.12xlarge",
    "vcpuNum": 48
   },
   {
    "_defaultOrder": 18,
    "_isFastLaunch": false,
    "category": "General purpose",
    "gpuNum": 0,
    "hideHardwareSpecs": false,
    "memoryGiB": 256,
    "name": "ml.m5d.16xlarge",
    "vcpuNum": 64
   },
   {
    "_defaultOrder": 19,
    "_isFastLaunch": false,
    "category": "General purpose",
    "gpuNum": 0,
    "hideHardwareSpecs": false,
    "memoryGiB": 384,
    "name": "ml.m5d.24xlarge",
    "vcpuNum": 96
   },
   {
    "_defaultOrder": 20,
    "_isFastLaunch": false,
    "category": "General purpose",
    "gpuNum": 0,
    "hideHardwareSpecs": true,
    "memoryGiB": 0,
    "name": "ml.geospatial.interactive",
    "supportedImageNames": [
     "sagemaker-geospatial-v1-0"
    ],
    "vcpuNum": 0
   },
   {
    "_defaultOrder": 21,
    "_isFastLaunch": true,
    "category": "Compute optimized",
    "gpuNum": 0,
    "hideHardwareSpecs": false,
    "memoryGiB": 4,
    "name": "ml.c5.large",
    "vcpuNum": 2
   },
   {
    "_defaultOrder": 22,
    "_isFastLaunch": false,
    "category": "Compute optimized",
    "gpuNum": 0,
    "hideHardwareSpecs": false,
    "memoryGiB": 8,
    "name": "ml.c5.xlarge",
    "vcpuNum": 4
   },
   {
    "_defaultOrder": 23,
    "_isFastLaunch": false,
    "category": "Compute optimized",
    "gpuNum": 0,
    "hideHardwareSpecs": false,
    "memoryGiB": 16,
    "name": "ml.c5.2xlarge",
    "vcpuNum": 8
   },
   {
    "_defaultOrder": 24,
    "_isFastLaunch": false,
    "category": "Compute optimized",
    "gpuNum": 0,
    "hideHardwareSpecs": false,
    "memoryGiB": 32,
    "name": "ml.c5.4xlarge",
    "vcpuNum": 16
   },
   {
    "_defaultOrder": 25,
    "_isFastLaunch": false,
    "category": "Compute optimized",
    "gpuNum": 0,
    "hideHardwareSpecs": false,
    "memoryGiB": 72,
    "name": "ml.c5.9xlarge",
    "vcpuNum": 36
   },
   {
    "_defaultOrder": 26,
    "_isFastLaunch": false,
    "category": "Compute optimized",
    "gpuNum": 0,
    "hideHardwareSpecs": false,
    "memoryGiB": 96,
    "name": "ml.c5.12xlarge",
    "vcpuNum": 48
   },
   {
    "_defaultOrder": 27,
    "_isFastLaunch": false,
    "category": "Compute optimized",
    "gpuNum": 0,
    "hideHardwareSpecs": false,
    "memoryGiB": 144,
    "name": "ml.c5.18xlarge",
    "vcpuNum": 72
   },
   {
    "_defaultOrder": 28,
    "_isFastLaunch": false,
    "category": "Compute optimized",
    "gpuNum": 0,
    "hideHardwareSpecs": false,
    "memoryGiB": 192,
    "name": "ml.c5.24xlarge",
    "vcpuNum": 96
   },
   {
    "_defaultOrder": 29,
    "_isFastLaunch": true,
    "category": "Accelerated computing",
    "gpuNum": 1,
    "hideHardwareSpecs": false,
    "memoryGiB": 16,
    "name": "ml.g4dn.xlarge",
    "vcpuNum": 4
   },
   {
    "_defaultOrder": 30,
    "_isFastLaunch": false,
    "category": "Accelerated computing",
    "gpuNum": 1,
    "hideHardwareSpecs": false,
    "memoryGiB": 32,
    "name": "ml.g4dn.2xlarge",
    "vcpuNum": 8
   },
   {
    "_defaultOrder": 31,
    "_isFastLaunch": false,
    "category": "Accelerated computing",
    "gpuNum": 1,
    "hideHardwareSpecs": false,
    "memoryGiB": 64,
    "name": "ml.g4dn.4xlarge",
    "vcpuNum": 16
   },
   {
    "_defaultOrder": 32,
    "_isFastLaunch": false,
    "category": "Accelerated computing",
    "gpuNum": 1,
    "hideHardwareSpecs": false,
    "memoryGiB": 128,
    "name": "ml.g4dn.8xlarge",
    "vcpuNum": 32
   },
   {
    "_defaultOrder": 33,
    "_isFastLaunch": false,
    "category": "Accelerated computing",
    "gpuNum": 4,
    "hideHardwareSpecs": false,
    "memoryGiB": 192,
    "name": "ml.g4dn.12xlarge",
    "vcpuNum": 48
   },
   {
    "_defaultOrder": 34,
    "_isFastLaunch": false,
    "category": "Accelerated computing",
    "gpuNum": 1,
    "hideHardwareSpecs": false,
    "memoryGiB": 256,
    "name": "ml.g4dn.16xlarge",
    "vcpuNum": 64
   },
   {
    "_defaultOrder": 35,
    "_isFastLaunch": false,
    "category": "Accelerated computing",
    "gpuNum": 1,
    "hideHardwareSpecs": false,
    "memoryGiB": 61,
    "name": "ml.p3.2xlarge",
    "vcpuNum": 8
   },
   {
    "_defaultOrder": 36,
    "_isFastLaunch": false,
    "category": "Accelerated computing",
    "gpuNum": 4,
    "hideHardwareSpecs": false,
    "memoryGiB": 244,
    "name": "ml.p3.8xlarge",
    "vcpuNum": 32
   },
   {
    "_defaultOrder": 37,
    "_isFastLaunch": false,
    "category": "Accelerated computing",
    "gpuNum": 8,
    "hideHardwareSpecs": false,
    "memoryGiB": 488,
    "name": "ml.p3.16xlarge",
    "vcpuNum": 64
   },
   {
    "_defaultOrder": 38,
    "_isFastLaunch": false,
    "category": "Accelerated computing",
    "gpuNum": 8,
    "hideHardwareSpecs": false,
    "memoryGiB": 768,
    "name": "ml.p3dn.24xlarge",
    "vcpuNum": 96
   },
   {
    "_defaultOrder": 39,
    "_isFastLaunch": false,
    "category": "Memory Optimized",
    "gpuNum": 0,
    "hideHardwareSpecs": false,
    "memoryGiB": 16,
    "name": "ml.r5.large",
    "vcpuNum": 2
   },
   {
    "_defaultOrder": 40,
    "_isFastLaunch": false,
    "category": "Memory Optimized",
    "gpuNum": 0,
    "hideHardwareSpecs": false,
    "memoryGiB": 32,
    "name": "ml.r5.xlarge",
    "vcpuNum": 4
   },
   {
    "_defaultOrder": 41,
    "_isFastLaunch": false,
    "category": "Memory Optimized",
    "gpuNum": 0,
    "hideHardwareSpecs": false,
    "memoryGiB": 64,
    "name": "ml.r5.2xlarge",
    "vcpuNum": 8
   },
   {
    "_defaultOrder": 42,
    "_isFastLaunch": false,
    "category": "Memory Optimized",
    "gpuNum": 0,
    "hideHardwareSpecs": false,
    "memoryGiB": 128,
    "name": "ml.r5.4xlarge",
    "vcpuNum": 16
   },
   {
    "_defaultOrder": 43,
    "_isFastLaunch": false,
    "category": "Memory Optimized",
    "gpuNum": 0,
    "hideHardwareSpecs": false,
    "memoryGiB": 256,
    "name": "ml.r5.8xlarge",
    "vcpuNum": 32
   },
   {
    "_defaultOrder": 44,
    "_isFastLaunch": false,
    "category": "Memory Optimized",
    "gpuNum": 0,
    "hideHardwareSpecs": false,
    "memoryGiB": 384,
    "name": "ml.r5.12xlarge",
    "vcpuNum": 48
   },
   {
    "_defaultOrder": 45,
    "_isFastLaunch": false,
    "category": "Memory Optimized",
    "gpuNum": 0,
    "hideHardwareSpecs": false,
    "memoryGiB": 512,
    "name": "ml.r5.16xlarge",
    "vcpuNum": 64
   },
   {
    "_defaultOrder": 46,
    "_isFastLaunch": false,
    "category": "Memory Optimized",
    "gpuNum": 0,
    "hideHardwareSpecs": false,
    "memoryGiB": 768,
    "name": "ml.r5.24xlarge",
    "vcpuNum": 96
   },
   {
    "_defaultOrder": 47,
    "_isFastLaunch": false,
    "category": "Accelerated computing",
    "gpuNum": 1,
    "hideHardwareSpecs": false,
    "memoryGiB": 16,
    "name": "ml.g5.xlarge",
    "vcpuNum": 4
   },
   {
    "_defaultOrder": 48,
    "_isFastLaunch": false,
    "category": "Accelerated computing",
    "gpuNum": 1,
    "hideHardwareSpecs": false,
    "memoryGiB": 32,
    "name": "ml.g5.2xlarge",
    "vcpuNum": 8
   },
   {
    "_defaultOrder": 49,
    "_isFastLaunch": false,
    "category": "Accelerated computing",
    "gpuNum": 1,
    "hideHardwareSpecs": false,
    "memoryGiB": 64,
    "name": "ml.g5.4xlarge",
    "vcpuNum": 16
   },
   {
    "_defaultOrder": 50,
    "_isFastLaunch": false,
    "category": "Accelerated computing",
    "gpuNum": 1,
    "hideHardwareSpecs": false,
    "memoryGiB": 128,
    "name": "ml.g5.8xlarge",
    "vcpuNum": 32
   },
   {
    "_defaultOrder": 51,
    "_isFastLaunch": false,
    "category": "Accelerated computing",
    "gpuNum": 1,
    "hideHardwareSpecs": false,
    "memoryGiB": 256,
    "name": "ml.g5.16xlarge",
    "vcpuNum": 64
   },
   {
    "_defaultOrder": 52,
    "_isFastLaunch": false,
    "category": "Accelerated computing",
    "gpuNum": 4,
    "hideHardwareSpecs": false,
    "memoryGiB": 192,
    "name": "ml.g5.12xlarge",
    "vcpuNum": 48
   },
   {
    "_defaultOrder": 53,
    "_isFastLaunch": false,
    "category": "Accelerated computing",
    "gpuNum": 4,
    "hideHardwareSpecs": false,
    "memoryGiB": 384,
    "name": "ml.g5.24xlarge",
    "vcpuNum": 96
   },
   {
    "_defaultOrder": 54,
    "_isFastLaunch": false,
    "category": "Accelerated computing",
    "gpuNum": 8,
    "hideHardwareSpecs": false,
    "memoryGiB": 768,
    "name": "ml.g5.48xlarge",
    "vcpuNum": 192
   },
   {
    "_defaultOrder": 55,
    "_isFastLaunch": false,
    "category": "Accelerated computing",
    "gpuNum": 8,
    "hideHardwareSpecs": false,
    "memoryGiB": 1152,
    "name": "ml.p4d.24xlarge",
    "vcpuNum": 96
   },
   {
    "_defaultOrder": 56,
    "_isFastLaunch": false,
    "category": "Accelerated computing",
    "gpuNum": 8,
    "hideHardwareSpecs": false,
    "memoryGiB": 1152,
    "name": "ml.p4de.24xlarge",
    "vcpuNum": 96
   }
  ],
  "instance_type": "ml.t3.medium",
  "kernelspec": {
   "display_name": "Python 3 (Data Science)",
   "language": "python",
   "name": "python3__SAGEMAKER_INTERNAL__arn:aws:sagemaker:us-west-2:236514542706:image/datascience-1.0"
  },
  "language_info": {
   "codemirror_mode": {
    "name": "ipython",
    "version": 3
   },
   "file_extension": ".py",
   "mimetype": "text/x-python",
   "name": "python",
   "nbconvert_exporter": "python",
   "pygments_lexer": "ipython3",
   "version": "3.7.10"
  }
 },
 "nbformat": 4,
 "nbformat_minor": 5
}
